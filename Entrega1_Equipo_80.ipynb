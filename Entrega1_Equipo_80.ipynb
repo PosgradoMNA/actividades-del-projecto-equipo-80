{
  "nbformat": 4,
  "nbformat_minor": 0,
  "metadata": {
    "colab": {
      "provenance": []
    },
    "kernelspec": {
      "name": "python3",
      "display_name": "Python 3"
    },
    "language_info": {
      "name": "python"
    }
  },
  "cells": [
    {
      "cell_type": "markdown",
      "source": [
        "## ENTREGA 1 - EQUIPO 80"
      ],
      "metadata": {
        "id": "R9AIFe6n446U"
      }
    },
    {
      "cell_type": "markdown",
      "source": [
        "1. Nombre que caracteriza el conjunto de datos.\n",
        ">* Choque de aviones desde 1908.\n",
        ">* Alias: Airplane_Crashes_and_Fatalities_Since_1908"
      ],
      "metadata": {
        "id": "tkZBY6hS_AiW"
      }
    },
    {
      "cell_type": "markdown",
      "source": [
        "2. La organización que lo generó.\n",
        ">* Extraído de: Kaggle.com\n",
        ">* Propietario en Kaggle: The Devastator\n",
        ">* Quién la generó? Data Society: https://data.world/data-society"
      ],
      "metadata": {
        "id": "dD6mp_rH_Zj5"
      }
    },
    {
      "cell_type": "markdown",
      "source": [
        "3. Incluya un enlace de Internet donde se puedan descargar el base de datos en línea:\n",
        ">https://www.kaggle.com/datasets/thedevastator/airplane-crashes-and-fatalities?resource=download"
      ],
      "metadata": {
        "id": "ilSQX9wk_pMm"
      }
    },
    {
      "cell_type": "markdown",
      "source": [
        "4.Describe el conjunto de datos. ¿Qué datos contiene?\n",
        "\n",
        ">*    Index: Un identificador único de la fila\n",
        ">*    Date: la fecha del accidente\n",
        ">*    Time: La hora del accidente\n",
        ">*    Location: Lugar del accidente, incluyendo ciudad, estado y país.\n",
        ">*    Operator: Quien estaba operando el avión, incluyendo vuelos militares y comerciales (aerolíneas)\n",
        ">*    Flight #: El número del vuelo\n",
        ">*    Route: la ruta seguida por el avión\n",
        ">*    Type: Tipo de avión\n",
        ">*    Registration: El número de vuelo o registro.\n",
        ">*    cn/In: el número de serie de construcción del avión.\n",
        ">*    Aboard: Número de pasajeros del avión (incluyendo tripulación)\n",
        ">*    Fatalities: número de decesos en el accidente.\n",
        ">*    Ground: Número de personas que no estaban en el avión y resultaron muertas (son no tripulantes muertos).\n",
        ">*    Summary: Un breve resumen del accidente."
      ],
      "metadata": {
        "id": "8WBBYR9U_2c0"
      }
    },
    {
      "cell_type": "markdown",
      "source": [
        "\n",
        "\n",
        "5. ¿Cuáles son algunas de las preguntas de investigación que podría responder con estos datos? Enumere al menos OCHO (no responda las preguntas).\n",
        ">*\tDónde suceden la mayoría de los impactos?\n",
        ">*\tQué tipo de avión están relacionados con los choques\n",
        ">*\tHay alguna época del año donde se choquen más?\n",
        ">*\tHay algún lote de aviones en específico que se han estrellado?\n",
        ">*  Cuál es la tasa de supervivencia en un accidente aéreo?\n",
        ">*\tLa seguridad en los vuelos ha aumentado con el tiempo?\n",
        ">*\tHay alguna ruta que sea más letal?\n",
        ">*\tLa distancia que recorre un avión tiene que ver con su accidentalidad? Tal vez vuelos más largos generen más accidentes."
      ],
      "metadata": {
        "id": "prFgX190AVfF"
      }
    },
    {
      "cell_type": "markdown",
      "source": [
        "6. ¿Qué actor (empresa, sector de la sociedad, organismo descentralizado, gobierno, etc.) estaría interesado en las preguntas mencionadas que identificó?\n",
        ">*\tAseguradoras\n",
        ">*\tAerolíneas\n",
        ">*\tAgencias del gobierno encargadas de la regulación aérea\n",
        ">*\tOrganimos multinacionales y multilaterales como la OMC.\n",
        ">*\tONGs interesadas en la seguridad del transporte."
      ],
      "metadata": {
        "id": "mJmA_RfoAzVT"
      }
    },
    {
      "cell_type": "markdown",
      "source": [],
      "metadata": {
        "id": "1egCF-h6BL-A"
      }
    }
  ]
}